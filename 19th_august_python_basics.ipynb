{
  "nbformat": 4,
  "nbformat_minor": 0,
  "metadata": {
    "colab": {
      "provenance": []
    },
    "kernelspec": {
      "name": "python3",
      "display_name": "Python 3"
    },
    "language_info": {
      "name": "python"
    }
  },
  "cells": [
    {
      "cell_type": "code",
      "execution_count": null,
      "metadata": {
        "id": "Y5LKD60KUC7s"
      },
      "outputs": [],
      "source": []
    },
    {
      "cell_type": "markdown",
      "source": [
        "1. Declare two variables, x and y, and assign them integer values. Swap the values of these variables without using any temporary variable."
      ],
      "metadata": {
        "id": "cr8Gaht_U0oN"
      }
    },
    {
      "cell_type": "code",
      "source": [
        "  # Declaring two variables with integer values\n",
        "x=5\n",
        "y=10\n",
        "# printing those values\n",
        "print(f\"Before swapping the value of X is {x} and y is {y}\")\n",
        "# swapping the values of variable\n",
        "x,y=y,x\n",
        "# values after the swapping\n",
        "print(f\"After swapping the Value of x is {x} and y is {y}\")"
      ],
      "metadata": {
        "colab": {
          "base_uri": "https://localhost:8080/"
        },
        "id": "9Jz4E9_8Upi8",
        "outputId": "481fb4ec-b295-4523-8a3d-91e27da92dad"
      },
      "execution_count": 2,
      "outputs": [
        {
          "output_type": "stream",
          "name": "stdout",
          "text": [
            "Before swapping the value of X is 5 and y is 10\n",
            "After swapping the Value of x is 10 and y is 5\n"
          ]
        }
      ]
    },
    {
      "cell_type": "markdown",
      "source": [
        "x = 5: This line initializes a variable named x with the value 5.\n",
        "\n",
        "y = 10: This line initializes a variable named y with the value 10.\n",
        "\n",
        "then printing the declared value using print(f\"Before swapping the value of X is {x} and y is {y}\") f-string allows you to embed variables values directly into the string.\n",
        "\n",
        "x, y = y, x: at this line swapping of variables occur\n",
        "\n",
        "print(f\"After swapping the Value of x is {x} and y is {y}\") this print the value of our variable after the swapping"
      ],
      "metadata": {
        "id": "oHN4BV9eVAjw"
      }
    },
    {
      "cell_type": "markdown",
      "source": [
        "2. Create a program that calculates the area of a rectangle. Take the length and width as inputs from the user and store them in variables. Calculate and display the area.**bold text**\n"
      ],
      "metadata": {
        "id": "plnP6JN2VOWk"
      }
    },
    {
      "cell_type": "code",
      "source": [
        "# taking the values for length and width from the user\n",
        "# declaring the length variable to take input(value) for length  from user\n",
        "length=float(input(\"Enter the value for length: \"))\n",
        "\n",
        "#declaring the width variable to take input from user\n",
        "width=float(input(\"Enter the value for width: \"))#declaring the width variable to take input from user\n",
        "\n",
        "# we know that area of rectangle is length * width\n",
        "area = length * width\n",
        "# printing area of rectangle\n",
        "print(\"Area of rectangle is :\",area)"
      ],
      "metadata": {
        "colab": {
          "base_uri": "https://localhost:8080/"
        },
        "id": "Wxpefw6TVVUu",
        "outputId": "4b989584-ceb1-45a9-dd30-d88c6931ba34"
      },
      "execution_count": 3,
      "outputs": [
        {
          "output_type": "stream",
          "name": "stdout",
          "text": [
            "Enter the value for length: 15\n",
            "Enter the value for width: 10\n",
            "Area of rectangle is : 150.0\n"
          ]
        }
      ]
    },
    {
      "cell_type": "markdown",
      "source": [
        "length=float(input(\"Enter the value for length: \"))\n",
        "\n",
        "declared the length variable for storing the value of length which take input as string from user and convert it into the float by typecasting which accept only numerical and floating value\n",
        "\n",
        "width=float(input(\"Enter the value for width: \"))\n",
        "\n",
        "declared the width variable for storing the value of width\n",
        "\n",
        "caluculating area of rectangle by using formula area = length * width print(\"Area of rectangle is :\",area) and last the print the area of rectangle"
      ],
      "metadata": {
        "id": "UhdL8IyJVlnv"
      }
    },
    {
      "cell_type": "markdown",
      "source": [],
      "metadata": {
        "id": "olS6cDFTVvs9"
      }
    },
    {
      "cell_type": "markdown",
      "source": [
        "3. Write a Python program that converts temperatures from Celsius to Fahrenheit. Take the temperature in Celsius as input, store it in a variable, convert it to Fahrenheit, and display the result.***bold text***"
      ],
      "metadata": {
        "id": "k1YAWhuJVxWM"
      }
    },
    {
      "cell_type": "code",
      "source": [
        "# taking input from user in celsius\n",
        "celsius_temp = float(input(\"Enter temperature in Celsius: \"))\n",
        "\n",
        "# Step 2: Convert Celsius to Fahrenheit using the formula: (C * 9/5) + 32\n",
        "fahrenheit_temp = (celsius_temp * 9/5) + 32\n",
        "\n",
        "# Step 3: displaying result in Fahrenhit\n",
        "print(f\"{celsius_temp} Celsius which is equal to {fahrenheit_temp} Fahrenheit\")"
      ],
      "metadata": {
        "colab": {
          "base_uri": "https://localhost:8080/"
        },
        "id": "sssULPw0WASd",
        "outputId": "f33f70d9-ae5d-47e3-8186-25a488a851ff"
      },
      "execution_count": 4,
      "outputs": [
        {
          "output_type": "stream",
          "name": "stdout",
          "text": [
            "Enter temperature in Celsius: 45\n",
            "45.0 Celsius which is equal to 113.0 Fahrenheit\n"
          ]
        }
      ]
    },
    {
      "cell_type": "markdown",
      "source": [
        "celsius_temp = float(input(\"Enter temperature in Celsius: \"))\n",
        "\n",
        "declaring the variable to store input value taken from user in celsius\n",
        "\n",
        "Convert Celsius to Fahrenheit using the formula: (C * 9/5) + 32\n",
        "\n",
        "to convert the value celsius to fahrenhit formula is assigned to the variable fahrenheit_temp\n",
        "\n",
        "print(f\"{celsius_temp} Celsius which is equal to {fahrenheit_temp} Fahrenheit\") where we display the result in fahrenhit\n",
        "\n",
        "f-string allows you to embed variables values directly into the string."
      ],
      "metadata": {
        "id": "FqMojyTIWLsa"
      }
    },
    {
      "cell_type": "markdown",
      "source": [
        "#TOPIC: String Based Questions"
      ],
      "metadata": {
        "id": "5cNZuThjWQyb"
      }
    },
    {
      "cell_type": "markdown",
      "source": [
        "Write a Python program that takes a string as input and prints the length of\n",
        "the string."
      ],
      "metadata": {
        "id": "cTmgTVmmWfpx"
      }
    },
    {
      "cell_type": "markdown",
      "source": [],
      "metadata": {
        "id": "-u8QkhQkWllh"
      }
    },
    {
      "cell_type": "code",
      "source": [
        "# Step 1: Get input from the user\n",
        "input_string = input(\"Enter a string: \")\n",
        "\n",
        "# Step 2: Calculate the length of string\n",
        "string_length = len(input_string)# len function is used\n",
        "\n",
        "# Step 3: Print the length of the string\n",
        "print(\"The length of the input string is:\", string_length)"
      ],
      "metadata": {
        "colab": {
          "base_uri": "https://localhost:8080/"
        },
        "id": "71EYGUnkW0_g",
        "outputId": "e6fd4654-1c37-4562-cb60-438a3e464dc8"
      },
      "execution_count": 8,
      "outputs": [
        {
          "output_type": "stream",
          "name": "stdout",
          "text": [
            "Enter a string: sam more\n",
            "The length of the input string is: 8\n"
          ]
        }
      ]
    },
    {
      "cell_type": "markdown",
      "source": [
        "input_string = input(\"Enter a string: \") : used to take input from user as a string\n",
        "\n",
        "variable input_string. string_length = len(input_string) : This calculates the length of the input_string to calculate the length of strin len function is used\n",
        "\n",
        "The length value is stored in the variable string_length.\n",
        "\n",
        "print(\"The length of the input string is:\", string_length) : this will display the length of the given string"
      ],
      "metadata": {
        "id": "wuJJPG2NXQtA"
      }
    },
    {
      "cell_type": "markdown",
      "source": [
        "#Q2.Create a program that takes a sentence from the user and counts the number of vowels a, e, i, o, u in the string**"
      ],
      "metadata": {
        "id": "PGi-VFR1XUBH"
      }
    },
    {
      "cell_type": "markdown",
      "source": [],
      "metadata": {
        "id": "6vhoexXpXglY"
      }
    },
    {
      "cell_type": "code",
      "source": [
        "#Declaring the variable to take input from the user\n",
        "sentence = input(\"Enter a sentence: \")\n",
        "\n",
        "#  Initialize to zero\n",
        "no_vowels = 0\n",
        "\n",
        "#  Iterate through each character in the sentence using for loop\n",
        "for vow in sentence:\n",
        "    #  Convert the input characters to lowercase to handle both uppercase and lowercase vowels\n",
        "    vow_lower =vow.lower()\n",
        "\n",
        "    # Check if it is a vowel\n",
        "    if vow_lower in \"aeiou\":\n",
        "        # If it is a vowel increment no of vowels\n",
        "        no_vowels += 1 #increment\n",
        "\n",
        "# Display the result\n",
        "print(\"Number of vowels:\", no_vowels)\n",
        "\n"
      ],
      "metadata": {
        "colab": {
          "base_uri": "https://localhost:8080/"
        },
        "id": "IJBkuiORXq66",
        "outputId": "9a0b00ee-0918-4d2a-d34a-e9249fc4a8a2"
      },
      "execution_count": 9,
      "outputs": [
        {
          "output_type": "stream",
          "name": "stdout",
          "text": [
            "Enter a sentence: swapnil more waghhachi talim\n",
            "Number of vowels: 9\n"
          ]
        }
      ]
    },
    {
      "cell_type": "markdown",
      "source": [
        "sentence = input(\"Enter a sentence: \") declared the variable named as sentence to take sentence from user\n",
        "\n",
        "no_vowels = 0\n",
        "\n",
        "firstly initialize the number of vowels to the zero\n",
        "\n",
        "char_lower = char.lower()\n",
        "\n",
        "converting the character into the lowercase\n",
        "\n",
        "if vow_lower in \"aeiou\":\n",
        "\n",
        "If the character is a vowel, increment the vowel_count variable\n",
        "\n",
        "no_vowels += 1 finally we displayed the total number of vowels in the given sentence\n",
        "\n"
      ],
      "metadata": {
        "id": "aQJra-hgX3pC"
      }
    },
    {
      "cell_type": "markdown",
      "source": [
        "# Q3 Given a string, reverse the order of characters using string slicing and print the reversed string.\n",
        "\n"
      ],
      "metadata": {
        "id": "aNuWh4OZYHKM"
      }
    },
    {
      "cell_type": "code",
      "source": [
        "#take input from user as string and stored itinto variable\n",
        "input_string=input(\"Enter string: \")\n",
        "# with the help of slicing we can reverse the string\n",
        "reversed_string=input_string[::-1]\n",
        "#print the reversed string\n",
        "print(\"String after reversed is :\",reversed_string)"
      ],
      "metadata": {
        "colab": {
          "base_uri": "https://localhost:8080/"
        },
        "id": "7KIkKv9IYOtV",
        "outputId": "d76b1efb-98f6-4d4f-8528-33fa502b9d27"
      },
      "execution_count": 10,
      "outputs": [
        {
          "output_type": "stream",
          "name": "stdout",
          "text": [
            "Enter string: swapnj,hdfsgu\n",
            "String after reversed is : ugsfdh,jnpaws\n"
          ]
        }
      ]
    },
    {
      "cell_type": "markdown",
      "source": [
        "used input() function to take input from user\n",
        "To reverse the string using string slicing, we use the slicing [start:stop:step]. to reverse string we simply follow [: :-1]\n",
        "\n",
        "We print the reversed string using the print() function. The text \"Reversed"
      ],
      "metadata": {
        "id": "2mdOxxM2Ybji"
      }
    },
    {
      "cell_type": "markdown",
      "source": [],
      "metadata": {
        "id": "eD_9eSfxX0jP"
      }
    },
    {
      "cell_type": "markdown",
      "source": [
        "#4. Write a program that takes a string as input and checks if it is a palindrome (reads the same forwards and backwards).\n",
        "\n",
        "\n"
      ],
      "metadata": {
        "id": "iJb6E3-4Ydtn"
      }
    },
    {
      "cell_type": "code",
      "source": [
        "\n",
        "# taking input from user\n",
        "Input_string=input(\"Enter a string:\")\n",
        "#remove spaces from user inputed strin and convert it into lower\n",
        "corrected_string=Input_string.replace(\"\",\"\").lower()\n",
        "# reverse the corrected string using slicing\n",
        "reversed_string=corrected_string[::-1]\n",
        "#check if corrected string and reversed string is same or not\n",
        "if corrected_string==reversed_string:\n",
        "  print(\"It is palindrome\")\n",
        "else:\n",
        "  print(\"It is not palindrome\")"
      ],
      "metadata": {
        "colab": {
          "base_uri": "https://localhost:8080/"
        },
        "id": "38RGZl7sYkx3",
        "outputId": "b0174b15-4b02-472d-9dd7-3e6536202e63"
      },
      "execution_count": 11,
      "outputs": [
        {
          "output_type": "stream",
          "name": "stdout",
          "text": [
            "Enter a string:pratham bhandigare\n",
            "It is not palindrome\n"
          ]
        }
      ]
    },
    {
      "cell_type": "markdown",
      "source": [
        "We taking user input and store it in the variable input_string.\n",
        "to remove the space from given string we used Input_string.replace(\"\",\"\")\n",
        "and to convert the input string to lower case we used lower() function\n",
        "We compare the corrected_string with reversed string using if statement.\n",
        "and given a condition if they both are same then it is palindrome else it not a palindrome"
      ],
      "metadata": {
        "id": "RaRUQJHEYzui"
      }
    },
    {
      "cell_type": "markdown",
      "source": [
        "# Q.5 Create a program that takes a string as input and removes all the spaces from it. Print the modified string without spaces"
      ],
      "metadata": {
        "id": "-aoXznZYY8pM"
      }
    },
    {
      "cell_type": "code",
      "source": [
        "#  Take input from the user\n",
        "input_string = input(\"Enter a string: \")\n",
        "\n",
        "# Step 2: Initialize an empty string to store the new string without spaces\n",
        "modified_string = \"\"\n",
        "\n",
        "# Iterate through  character in the input string using for loop\n",
        "for char in input_string:\n",
        "    # Step 4: Check if the character is not a space\n",
        "      if char != \" \":\n",
        "        # Step 5: If not a space, add the character to the modified string\n",
        "          modified_string += char\n",
        "print(\"Modified string without spaces: \",modified_string)"
      ],
      "metadata": {
        "colab": {
          "base_uri": "https://localhost:8080/"
        },
        "id": "DbMoE9WJZCMV",
        "outputId": "6bf9f89c-5117-43be-f335-ee85abc0c53a"
      },
      "execution_count": 12,
      "outputs": [
        {
          "output_type": "stream",
          "name": "stdout",
          "text": [
            "Enter a string: nikita sawant\n",
            "Modified string without spaces:  nikitasawant\n"
          ]
        }
      ]
    },
    {
      "cell_type": "markdown",
      "source": [
        "firstly taking input from user by using input() function\n",
        "to store the string without the spaces we declare the variable name as modified_string\n",
        "Iterate through every single character in the input string we used for loop\n",
        "for char in input_string:\n",
        "\n",
        "to check whether there is any space in input string we check a condition if char != \" \":\n",
        "if there is no any space then we added string to modified string by using modified_string += char\n",
        "finally we displayed it with the help of print function\n"
      ],
      "metadata": {
        "id": "ou2Q1Z9UZUWd"
      }
    },
    {
      "cell_type": "markdown",
      "source": [],
      "metadata": {
        "id": "nfgeLu6WZZ3f"
      }
    }
  ]
}